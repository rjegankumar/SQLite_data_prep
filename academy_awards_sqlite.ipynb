{
 "cells": [
  {
   "cell_type": "markdown",
   "metadata": {
    "collapsed": true
   },
   "source": [
    "# Cleaning up the academy awards dataset and creating a SQLite table"
   ]
  },
  {
   "cell_type": "code",
   "execution_count": 39,
   "metadata": {
    "collapsed": false
   },
   "outputs": [
    {
     "data": {
      "text/html": [
       "<div>\n",
       "<table border=\"1\" class=\"dataframe\">\n",
       "  <thead>\n",
       "    <tr style=\"text-align: right;\">\n",
       "      <th></th>\n",
       "      <th>Year</th>\n",
       "      <th>Category</th>\n",
       "      <th>Nominee</th>\n",
       "      <th>Additional Info</th>\n",
       "      <th>Won?</th>\n",
       "      <th>Unnamed: 5</th>\n",
       "      <th>Unnamed: 6</th>\n",
       "      <th>Unnamed: 7</th>\n",
       "      <th>Unnamed: 8</th>\n",
       "      <th>Unnamed: 9</th>\n",
       "      <th>Unnamed: 10</th>\n",
       "    </tr>\n",
       "  </thead>\n",
       "  <tbody>\n",
       "    <tr>\n",
       "      <th>0</th>\n",
       "      <td>2010 (83rd)</td>\n",
       "      <td>Actor -- Leading Role</td>\n",
       "      <td>Javier Bardem</td>\n",
       "      <td>Biutiful {'Uxbal'}</td>\n",
       "      <td>NO</td>\n",
       "      <td>NaN</td>\n",
       "      <td>NaN</td>\n",
       "      <td>NaN</td>\n",
       "      <td>NaN</td>\n",
       "      <td>NaN</td>\n",
       "      <td>NaN</td>\n",
       "    </tr>\n",
       "    <tr>\n",
       "      <th>1</th>\n",
       "      <td>2010 (83rd)</td>\n",
       "      <td>Actor -- Leading Role</td>\n",
       "      <td>Jeff Bridges</td>\n",
       "      <td>True Grit {'Rooster Cogburn'}</td>\n",
       "      <td>NO</td>\n",
       "      <td>NaN</td>\n",
       "      <td>NaN</td>\n",
       "      <td>NaN</td>\n",
       "      <td>NaN</td>\n",
       "      <td>NaN</td>\n",
       "      <td>NaN</td>\n",
       "    </tr>\n",
       "    <tr>\n",
       "      <th>2</th>\n",
       "      <td>2010 (83rd)</td>\n",
       "      <td>Actor -- Leading Role</td>\n",
       "      <td>Jesse Eisenberg</td>\n",
       "      <td>The Social Network {'Mark Zuckerberg'}</td>\n",
       "      <td>NO</td>\n",
       "      <td>NaN</td>\n",
       "      <td>NaN</td>\n",
       "      <td>NaN</td>\n",
       "      <td>NaN</td>\n",
       "      <td>NaN</td>\n",
       "      <td>NaN</td>\n",
       "    </tr>\n",
       "    <tr>\n",
       "      <th>3</th>\n",
       "      <td>2010 (83rd)</td>\n",
       "      <td>Actor -- Leading Role</td>\n",
       "      <td>Colin Firth</td>\n",
       "      <td>The King's Speech {'King George VI'}</td>\n",
       "      <td>YES</td>\n",
       "      <td>NaN</td>\n",
       "      <td>NaN</td>\n",
       "      <td>NaN</td>\n",
       "      <td>NaN</td>\n",
       "      <td>NaN</td>\n",
       "      <td>NaN</td>\n",
       "    </tr>\n",
       "    <tr>\n",
       "      <th>4</th>\n",
       "      <td>2010 (83rd)</td>\n",
       "      <td>Actor -- Leading Role</td>\n",
       "      <td>James Franco</td>\n",
       "      <td>127 Hours {'Aron Ralston'}</td>\n",
       "      <td>NO</td>\n",
       "      <td>NaN</td>\n",
       "      <td>NaN</td>\n",
       "      <td>NaN</td>\n",
       "      <td>NaN</td>\n",
       "      <td>NaN</td>\n",
       "      <td>NaN</td>\n",
       "    </tr>\n",
       "  </tbody>\n",
       "</table>\n",
       "</div>"
      ],
      "text/plain": [
       "          Year               Category          Nominee  \\\n",
       "0  2010 (83rd)  Actor -- Leading Role    Javier Bardem   \n",
       "1  2010 (83rd)  Actor -- Leading Role     Jeff Bridges   \n",
       "2  2010 (83rd)  Actor -- Leading Role  Jesse Eisenberg   \n",
       "3  2010 (83rd)  Actor -- Leading Role      Colin Firth   \n",
       "4  2010 (83rd)  Actor -- Leading Role     James Franco   \n",
       "\n",
       "                          Additional Info Won? Unnamed: 5 Unnamed: 6  \\\n",
       "0                      Biutiful {'Uxbal'}   NO        NaN        NaN   \n",
       "1           True Grit {'Rooster Cogburn'}   NO        NaN        NaN   \n",
       "2  The Social Network {'Mark Zuckerberg'}   NO        NaN        NaN   \n",
       "3    The King's Speech {'King George VI'}  YES        NaN        NaN   \n",
       "4              127 Hours {'Aron Ralston'}   NO        NaN        NaN   \n",
       "\n",
       "  Unnamed: 7 Unnamed: 8 Unnamed: 9 Unnamed: 10  \n",
       "0        NaN        NaN        NaN         NaN  \n",
       "1        NaN        NaN        NaN         NaN  \n",
       "2        NaN        NaN        NaN         NaN  \n",
       "3        NaN        NaN        NaN         NaN  \n",
       "4        NaN        NaN        NaN         NaN  "
      ]
     },
     "execution_count": 39,
     "metadata": {},
     "output_type": "execute_result"
    }
   ],
   "source": [
    "import pandas as pd\n",
    "\n",
    "academy_awards = pd.read_csv(\"academy_awards.csv\", encoding = \"ISO-8859-1\")\n",
    "\n",
    "academy_awards.head()"
   ]
  },
  {
   "cell_type": "code",
   "execution_count": 40,
   "metadata": {
    "collapsed": false
   },
   "outputs": [
    {
     "name": "stdout",
     "output_type": "stream",
     "text": [
      "No. of unique values in 'Year' are 83 \n",
      "\n",
      "No. of unique values in 'Category' are 40 \n",
      "\n",
      "No. of unique values in 'Nominee' are 6001 \n",
      "\n",
      "No. of unique values in 'Additional Info' are 6424 \n",
      "\n",
      "No. of unique values in 'Won?' are 16 \n",
      "\n",
      "No. of unique values in 'Unnamed: 5' are 5 \n",
      "\n",
      "No. of unique values in 'Unnamed: 6' are 4 \n",
      "\n",
      "No. of unique values in 'Unnamed: 7' are 3 \n",
      "\n",
      "No. of unique values in 'Unnamed: 8' are 2 \n",
      "\n",
      "No. of unique values in 'Unnamed: 9' are 1 \n",
      "\n",
      "No. of unique values in 'Unnamed: 10' are 1 \n",
      "\n"
     ]
    }
   ],
   "source": [
    "for column in academy_awards.columns:\n",
    "    print(\"No. of unique values in '{0}' are\".format(column),len(academy_awards[column].value_counts()),\"\\n\")"
   ]
  },
  {
   "cell_type": "code",
   "execution_count": 41,
   "metadata": {
    "collapsed": false,
    "scrolled": true
   },
   "outputs": [
    {
     "name": "stdout",
     "output_type": "stream",
     "text": [
      "             Year                                           Category  \\\n",
      "510   2007 (80th)  Scientific and Technical (Technical Achievemen...   \n",
      "511   2007 (80th)  Scientific and Technical (Technical Achievemen...   \n",
      "764   2005 (78th)  Scientific and Technical (Scientific and Engin...   \n",
      "773   2005 (78th)  Scientific and Technical (Technical Achievemen...   \n",
      "905   2004 (77th)  Scientific and Technical (Technical Achievemen...   \n",
      "1024  2003 (76th)  Scientific and Technical (Scientific and Engin...   \n",
      "1269  2001 (74th)  Scientific and Technical (Scientific and Engin...   \n",
      "1287  2001 (74th)  Scientific and Technical (Technical Achievemen...   \n",
      "1289  2001 (74th)  Scientific and Technical (Technical Achievemen...   \n",
      "1293  2001 (74th)          Scientific and Technical (Special Awards)   \n",
      "1690  1998 (71st)  Scientific and Technical (Technical Achievemen...   \n",
      "6669  1957 (30th)                                     Honorary Award   \n",
      "9550  1937 (10th)                                     Honorary Award   \n",
      "9785   1935 (8th)                 Dance Direction (archaic category)   \n",
      "\n",
      "                                                Nominee  \\\n",
      "510   To CHRISTIEN TINSLEY for the creation of the t...   \n",
      "511   To JÖRG PÖHLER and RÜDIGER KLEINKE of OTTEC Te...   \n",
      "764   To DAVID BARAFF, MICHAEL KASS and ANDREW WITKI...   \n",
      "773   To JOHN PLATT and DEMETRI TERZOPOULOS for thei...   \n",
      "905   To ALAN KAPLER for the design and development ...   \n",
      "1024  To STEPHEN REGELOUS for the design and develop...   \n",
      "1269  To JOHN M. EARGLE, D.B. DON\" KEELE and MARK E....   \n",
      "1287  To DR. UWE SASSENBERG and ROLF SCHNEIDER for t...   \n",
      "1289  To MIC RODGERS and MATT SWEENEY for the concep...   \n",
      "1293  To the American Society of Cinematographers (A...   \n",
      "1690  To CARY PHILLIPS for the design and developmen...   \n",
      "6669            To Gilbert M. (Broncho Billy\") Anderson   \n",
      "9550  To Mack Sennett, for his lasting contribution ...   \n",
      "9785              Hermes Pan -- Piccolino\" and \"Top Hat   \n",
      "\n",
      "                                        Additional Info  \\\n",
      "510                              bruises and birthmarks   \n",
      "511    well-engineered and remote-controllable packa...   \n",
      "764    providing the key in demonstrating to the ind...   \n",
      "773    introducing the concept of physically-based t...   \n",
      "905    a software toolkit for artistic control of vo...   \n",
      "1024                                           over 200   \n",
      "1269   design and engineering of the modern constant...   \n",
      "1287   an advanced and robust camera and object matc...   \n",
      "1289   low bed picture car carrier and camera platfo...   \n",
      "1293   first published by the ASC in 1930, the Ameri...   \n",
      "1690   and adding an expressive multi-target shape i...   \n",
      "6669                             motion picture pioneer   \n",
      "9550   the basic principles of which are as importan...   \n",
      "9785                                          White Tie   \n",
      "\n",
      "                                                   Won?  \\\n",
      "510    as well as 3D prosthetic appliances ranging i...   \n",
      "511    more conventional fog units. [Stage Operations]\"   \n",
      "764    complex cloth could be achieved efficiently a...   \n",
      "773    deforming objects. [Digital Imaging Technology]\"   \n",
      "905    water and avalanches with familiar operators ...   \n",
      "1024  000 agents were controlled in several scenes. ...   \n",
      "1269   direct radiator style motion picture loudspea...   \n",
      "1287   which significantly reduces the need for pain...   \n",
      "1289   economic and realistic filming of action sequ...   \n",
      "1293   this premier reference manual has had a signi...   \n",
      "1690   the \"Caricature\" system provides a degree of ...   \n",
      "6669   for his contributions to the development of m...   \n",
      "9550   the Academy presents a Special Award to that ...   \n",
      "9785     and Tails\" numbers from Top Hat [came in 2nd]\"   \n",
      "\n",
      "                                             Unnamed: 5  \\\n",
      "510                                          resilience   \n",
      "511                                                 NaN   \n",
      "764                                                 NaN   \n",
      "773                                                 NaN   \n",
      "905                                                 NaN   \n",
      "1024                                                NaN   \n",
      "1269   D.B. \"Don\" Keele and Mark E. Engebretson has ...   \n",
      "1287   error-prone measurements on sets. [Digital Im...   \n",
      "1289                                                NaN   \n",
      "1293                                                NaN   \n",
      "1690                                                NaN   \n",
      "6669                                                NaN   \n",
      "9550                                discoverer of stars   \n",
      "9785                                                NaN   \n",
      "\n",
      "                                             Unnamed: 6  \\\n",
      "510                    flexibility and water resistance   \n",
      "511                                                   *   \n",
      "764                                                   *   \n",
      "773                                                   *   \n",
      "905                                                   *   \n",
      "1024                                                  *   \n",
      "1269   direct radiator bass style cinema loudspeaker...   \n",
      "1287                                                NaN   \n",
      "1289                                                  *   \n",
      "1293                                                  *   \n",
      "1690                                                  *   \n",
      "6669                                                  *   \n",
      "9550                                        sympathetic   \n",
      "9785                                                NaN   \n",
      "\n",
      "                                             Unnamed: 7  \\\n",
      "510    while requiring no dangerous solvents. [Syste...   \n",
      "511                                                 NaN   \n",
      "764                                                 NaN   \n",
      "773                                                 NaN   \n",
      "905                                                 NaN   \n",
      "1024                                                NaN   \n",
      "1269                                                NaN   \n",
      "1287                                                  *   \n",
      "1289                                                NaN   \n",
      "1293                                                NaN   \n",
      "1690                                                NaN   \n",
      "6669                                                NaN   \n",
      "9550                                             kindly   \n",
      "9785                                                NaN   \n",
      "\n",
      "                                          Unnamed: 8 Unnamed: 9 Unnamed: 10  \n",
      "510                                              NaN          *         NaN  \n",
      "511                                              NaN        NaN         NaN  \n",
      "764                                              NaN        NaN         NaN  \n",
      "773                                              NaN        NaN         NaN  \n",
      "905                                              NaN        NaN         NaN  \n",
      "1024                                             NaN        NaN         NaN  \n",
      "1269                                               *        NaN         NaN  \n",
      "1287                                             NaN        NaN         NaN  \n",
      "1289                                             NaN        NaN         NaN  \n",
      "1293                                             NaN        NaN         NaN  \n",
      "1690                                             NaN        NaN         NaN  \n",
      "6669                                             NaN        NaN         NaN  \n",
      "9550   understanding comedy genius - Mack Sennett.\"\"        NaN           *  \n",
      "9785                                             NaN        NaN         NaN  \n"
     ]
    }
   ],
   "source": [
    "won_not_yes_no = academy_awards[(academy_awards['Won?'] != 'YES') & (academy_awards['Won?'] != 'NO')]\n",
    "print(won_not_yes_no)"
   ]
  },
  {
   "cell_type": "code",
   "execution_count": 42,
   "metadata": {
    "collapsed": false
   },
   "outputs": [
    {
     "name": "stdout",
     "output_type": "stream",
     "text": [
      "*                                                                                                               7\n",
      " discoverer of stars                                                                                            1\n",
      " error-prone measurements on sets. [Digital Imaging Technology]\"                                                1\n",
      " D.B. \"Don\" Keele and Mark E. Engebretson has resulted in the over 20-year dominance of constant-directivity    1\n",
      " resilience                                                                                                     1\n",
      "Name: Unnamed: 5, dtype: int64\n",
      "*                                                                   9\n",
      " flexibility and water resistance                                   1\n",
      " direct radiator bass style cinema loudspeaker systems. [Sound]\"    1\n",
      " sympathetic                                                        1\n",
      "Name: Unnamed: 6, dtype: int64\n",
      " kindly                                               1\n",
      " while requiring no dangerous solvents. [Systems]\"    1\n",
      "*                                                     1\n",
      "Name: Unnamed: 7, dtype: int64\n",
      " understanding comedy genius - Mack Sennett.\"\"    1\n",
      "*                                                 1\n",
      "Name: Unnamed: 8, dtype: int64\n",
      "*    1\n",
      "Name: Unnamed: 9, dtype: int64\n",
      "*    1\n",
      "Name: Unnamed: 10, dtype: int64\n"
     ]
    }
   ],
   "source": [
    "for i in range(5,11):\n",
    "    print(academy_awards.iloc[:,i].value_counts())"
   ]
  },
  {
   "cell_type": "code",
   "execution_count": 43,
   "metadata": {
    "collapsed": false
   },
   "outputs": [
    {
     "data": {
      "text/html": [
       "<div>\n",
       "<table border=\"1\" class=\"dataframe\">\n",
       "  <thead>\n",
       "    <tr style=\"text-align: right;\">\n",
       "      <th></th>\n",
       "      <th>Year</th>\n",
       "      <th>Category</th>\n",
       "      <th>Nominee</th>\n",
       "      <th>Additional Info</th>\n",
       "      <th>Won?</th>\n",
       "    </tr>\n",
       "  </thead>\n",
       "  <tbody>\n",
       "    <tr>\n",
       "      <th>0</th>\n",
       "      <td>2010 (83rd)</td>\n",
       "      <td>Actor -- Leading Role</td>\n",
       "      <td>Javier Bardem</td>\n",
       "      <td>Biutiful {'Uxbal'}</td>\n",
       "      <td>NO</td>\n",
       "    </tr>\n",
       "    <tr>\n",
       "      <th>1</th>\n",
       "      <td>2010 (83rd)</td>\n",
       "      <td>Actor -- Leading Role</td>\n",
       "      <td>Jeff Bridges</td>\n",
       "      <td>True Grit {'Rooster Cogburn'}</td>\n",
       "      <td>NO</td>\n",
       "    </tr>\n",
       "    <tr>\n",
       "      <th>2</th>\n",
       "      <td>2010 (83rd)</td>\n",
       "      <td>Actor -- Leading Role</td>\n",
       "      <td>Jesse Eisenberg</td>\n",
       "      <td>The Social Network {'Mark Zuckerberg'}</td>\n",
       "      <td>NO</td>\n",
       "    </tr>\n",
       "    <tr>\n",
       "      <th>3</th>\n",
       "      <td>2010 (83rd)</td>\n",
       "      <td>Actor -- Leading Role</td>\n",
       "      <td>Colin Firth</td>\n",
       "      <td>The King's Speech {'King George VI'}</td>\n",
       "      <td>YES</td>\n",
       "    </tr>\n",
       "    <tr>\n",
       "      <th>4</th>\n",
       "      <td>2010 (83rd)</td>\n",
       "      <td>Actor -- Leading Role</td>\n",
       "      <td>James Franco</td>\n",
       "      <td>127 Hours {'Aron Ralston'}</td>\n",
       "      <td>NO</td>\n",
       "    </tr>\n",
       "  </tbody>\n",
       "</table>\n",
       "</div>"
      ],
      "text/plain": [
       "          Year               Category          Nominee  \\\n",
       "0  2010 (83rd)  Actor -- Leading Role    Javier Bardem   \n",
       "1  2010 (83rd)  Actor -- Leading Role     Jeff Bridges   \n",
       "2  2010 (83rd)  Actor -- Leading Role  Jesse Eisenberg   \n",
       "3  2010 (83rd)  Actor -- Leading Role      Colin Firth   \n",
       "4  2010 (83rd)  Actor -- Leading Role     James Franco   \n",
       "\n",
       "                          Additional Info Won?  \n",
       "0                      Biutiful {'Uxbal'}   NO  \n",
       "1           True Grit {'Rooster Cogburn'}   NO  \n",
       "2  The Social Network {'Mark Zuckerberg'}   NO  \n",
       "3    The King's Speech {'King George VI'}  YES  \n",
       "4              127 Hours {'Aron Ralston'}   NO  "
      ]
     },
     "execution_count": 43,
     "metadata": {},
     "output_type": "execute_result"
    }
   ],
   "source": [
    "academy_awards = academy_awards.iloc[:,:5]\n",
    "academy_awards.head()"
   ]
  },
  {
   "cell_type": "code",
   "execution_count": 44,
   "metadata": {
    "collapsed": false
   },
   "outputs": [
    {
     "name": "stdout",
     "output_type": "stream",
     "text": [
      "NO     7168\n",
      "YES    2969\n",
      "Name: Won?, dtype: int64\n"
     ]
    }
   ],
   "source": [
    "for index in won_not_yes_no.index:\n",
    "    academy_awards.loc[index,'Won?'] = 'YES'\n",
    "print(academy_awards['Won?'].value_counts())"
   ]
  },
  {
   "cell_type": "code",
   "execution_count": 45,
   "metadata": {
    "collapsed": false,
    "scrolled": false
   },
   "outputs": [
    {
     "data": {
      "text/plain": [
       "1941 (14th)      192\n",
       "1942 (15th)      190\n",
       "1943 (16th)      188\n",
       "1944 (17th)      181\n",
       "1945 (18th)      163\n",
       "1940 (13th)      162\n",
       "1939 (12th)      153\n",
       "1998 (71st)      150\n",
       "1938 (11th)      145\n",
       "1954 (27th)      141\n",
       "1995 (68th)      141\n",
       "2009 (82nd)      140\n",
       "1952 (25th)      138\n",
       "1994 (67th)      138\n",
       "1997 (70th)      137\n",
       "2001 (74th)      137\n",
       "1937 (10th)      135\n",
       "1953 (26th)      135\n",
       "2010 (83rd)      135\n",
       "1956 (29th)      134\n",
       "1964 (37th)      132\n",
       "1955 (28th)      132\n",
       "1996 (69th)      131\n",
       "2006 (79th)      130\n",
       "1966 (39th)      129\n",
       "2004 (77th)      129\n",
       "2005 (78th)      129\n",
       "1990 (63rd)      129\n",
       "2000 (73rd)      129\n",
       "1961 (34th)      129\n",
       "                ... \n",
       "1987 (60th)      119\n",
       "1975 (48th)      118\n",
       "2008 (81st)      118\n",
       "1950 (23rd)      116\n",
       "1985 (58th)      116\n",
       "1983 (56th)      116\n",
       "1936 (9th)       115\n",
       "1958 (31st)      115\n",
       "1974 (47th)      115\n",
       "1948 (21st)      115\n",
       "1946 (19th)      115\n",
       "1972 (45th)      114\n",
       "1989 (62nd)      114\n",
       "1947 (20th)      114\n",
       "1980 (53rd)      113\n",
       "1976 (49th)      113\n",
       "1967 (40th)      113\n",
       "1969 (42nd)      112\n",
       "1970 (43rd)      112\n",
       "1971 (44th)      110\n",
       "1973 (46th)      109\n",
       "1957 (30th)      106\n",
       "1935 (8th)        95\n",
       "1934 (7th)        68\n",
       "1932/33 (6th)     65\n",
       "1930/31 (4th)     50\n",
       "1931/32 (5th)     47\n",
       "1929/30 (3rd)     42\n",
       "1927/28 (1st)     39\n",
       "1928/29 (2nd)     38\n",
       "Name: Year, dtype: int64"
      ]
     },
     "execution_count": 45,
     "metadata": {},
     "output_type": "execute_result"
    }
   ],
   "source": [
    "academy_awards['Year'].value_counts()"
   ]
  },
  {
   "cell_type": "code",
   "execution_count": 46,
   "metadata": {
    "collapsed": false
   },
   "outputs": [
    {
     "name": "stdout",
     "output_type": "stream",
     "text": [
      "['1932/33 (6th)' '1931/32 (5th)' '1930/31 (4th)' '1929/30 (3rd)'\n",
      " '1928/29 (2nd)' '1927/28 (1st)']\n"
     ]
    }
   ],
   "source": [
    "import re\n",
    "\n",
    "split_year = academy_awards['Year'].map(lambda x: (re.search(\"[/]\", x)) is not None)\n",
    "print(academy_awards[split_year]['Year'].unique())"
   ]
  },
  {
   "cell_type": "code",
   "execution_count": 47,
   "metadata": {
    "collapsed": false
   },
   "outputs": [
    {
     "data": {
      "text/html": [
       "<div>\n",
       "<table border=\"1\" class=\"dataframe\">\n",
       "  <thead>\n",
       "    <tr style=\"text-align: right;\">\n",
       "      <th></th>\n",
       "      <th>Year</th>\n",
       "      <th>Category</th>\n",
       "      <th>Nominee</th>\n",
       "      <th>Additional Info</th>\n",
       "      <th>Won?</th>\n",
       "    </tr>\n",
       "  </thead>\n",
       "  <tbody>\n",
       "    <tr>\n",
       "      <th>9788</th>\n",
       "      <td>1934 (7th)</td>\n",
       "      <td>Actor -- Leading Role</td>\n",
       "      <td>Clark Gable</td>\n",
       "      <td>It Happened One Night {'Peter Warne'}</td>\n",
       "      <td>YES</td>\n",
       "    </tr>\n",
       "    <tr>\n",
       "      <th>9789</th>\n",
       "      <td>1934 (7th)</td>\n",
       "      <td>Actor -- Leading Role</td>\n",
       "      <td>Frank Morgan</td>\n",
       "      <td>The Affairs of Cellini {'Allesandro, Duke of F...</td>\n",
       "      <td>NO</td>\n",
       "    </tr>\n",
       "    <tr>\n",
       "      <th>9790</th>\n",
       "      <td>1934 (7th)</td>\n",
       "      <td>Actor -- Leading Role</td>\n",
       "      <td>William Powell</td>\n",
       "      <td>The Thin Man {'Nick Charles'} [came in 3rd]</td>\n",
       "      <td>NO</td>\n",
       "    </tr>\n",
       "    <tr>\n",
       "      <th>9791</th>\n",
       "      <td>1934 (7th)</td>\n",
       "      <td>Actress -- Leading Role</td>\n",
       "      <td>Claudette Colbert</td>\n",
       "      <td>It Happened One Night {'Ellie Andrews'}</td>\n",
       "      <td>YES</td>\n",
       "    </tr>\n",
       "    <tr>\n",
       "      <th>9792</th>\n",
       "      <td>1934 (7th)</td>\n",
       "      <td>Actress -- Leading Role</td>\n",
       "      <td>Bette Davis</td>\n",
       "      <td>Of Human Bondage {'Mildred'} [came in 3rd]</td>\n",
       "      <td>NO</td>\n",
       "    </tr>\n",
       "  </tbody>\n",
       "</table>\n",
       "</div>"
      ],
      "text/plain": [
       "            Year                 Category            Nominee  \\\n",
       "9788  1934 (7th)    Actor -- Leading Role        Clark Gable   \n",
       "9789  1934 (7th)    Actor -- Leading Role       Frank Morgan   \n",
       "9790  1934 (7th)    Actor -- Leading Role     William Powell   \n",
       "9791  1934 (7th)  Actress -- Leading Role  Claudette Colbert   \n",
       "9792  1934 (7th)  Actress -- Leading Role        Bette Davis   \n",
       "\n",
       "                                        Additional Info Won?  \n",
       "9788              It Happened One Night {'Peter Warne'}  YES  \n",
       "9789  The Affairs of Cellini {'Allesandro, Duke of F...   NO  \n",
       "9790        The Thin Man {'Nick Charles'} [came in 3rd]   NO  \n",
       "9791            It Happened One Night {'Ellie Andrews'}  YES  \n",
       "9792         Of Human Bondage {'Mildred'} [came in 3rd]   NO  "
      ]
     },
     "execution_count": 47,
     "metadata": {},
     "output_type": "execute_result"
    }
   ],
   "source": [
    "academy_awards[academy_awards['Year'].map(lambda x: (re.search(\"1934\", x)) is not None)].head()"
   ]
  },
  {
   "cell_type": "code",
   "execution_count": 48,
   "metadata": {
    "collapsed": false
   },
   "outputs": [
    {
     "name": "stdout",
     "output_type": "stream",
     "text": [
      "['1932/33 (6th)' '1931/32 (5th)' '1930/31 (4th)' '1929/30 (3rd)'\n",
      " '1928/29 (2nd)' '1927/28 (1st)']\n"
     ]
    },
    {
     "name": "stderr",
     "output_type": "stream",
     "text": [
      "/Users/jeganram/anaconda/lib/python3.5/site-packages/pandas/core/indexing.py:561: SettingWithCopyWarning: \n",
      "A value is trying to be set on a copy of a slice from a DataFrame.\n",
      "Try using .loc[row_indexer,col_indexer] = value instead\n",
      "\n",
      "See the caveats in the documentation: http://pandas.pydata.org/pandas-docs/stable/indexing.html#indexing-view-versus-copy\n",
      "  self.obj[item_labels[indexer[info_axis]]] = value\n"
     ]
    }
   ],
   "source": [
    "split_year_dict = {\n",
    "    '1932/33 (6th)': '1933 (6th)',\n",
    "    '1931/32 (5th)': '1932 (5th)',\n",
    "    '1930/31 (4th)': '1931 (4th)',\n",
    "    '1929/30 (3rd)': '1930 (3rd)',\n",
    "    '1928/29 (2nd)': '1929 (2nd)',\n",
    "    '1927/28 (1st)': '1928 (1st)'\n",
    "}\n",
    "\n",
    "for key, value in split_year_dict.items():\n",
    "    academy_awards[academy_awards['Year']==key].loc[:,'Year'] = value\n",
    "\n",
    "print(academy_awards[split_year].loc[:,'Year'].unique())"
   ]
  },
  {
   "cell_type": "code",
   "execution_count": 49,
   "metadata": {
    "collapsed": false,
    "scrolled": false
   },
   "outputs": [
    {
     "data": {
      "text/plain": [
       "Writing                                                        888\n",
       "Music (Scoring)                                                748\n",
       "Cinematography                                                 572\n",
       "Art Direction                                                  552\n",
       "Best Picture                                                   485\n",
       "Sound                                                          460\n",
       "Short Film (Live Action)                                       434\n",
       "Scientific and Technical (Technical Achievement Award)         428\n",
       "Music (Song)                                                   413\n",
       "Actress -- Leading Role                                        411\n",
       "Directing                                                      410\n",
       "Actor -- Leading Role                                          408\n",
       "Film Editing                                                   385\n",
       "Costume Design                                                 384\n",
       "Actor -- Supporting Role                                       375\n",
       "Actress -- Supporting Role                                     375\n",
       "Short Film (Animated)                                          328\n",
       "Documentary (Short Subject)                                    323\n",
       "Documentary (Feature)                                          292\n",
       "Foreign Language Film                                          283\n",
       "Scientific and Technical (Scientific and Engineering Award)    273\n",
       "Honorary Award                                                 159\n",
       "Visual Effects                                                 117\n",
       "Sound Editing                                                  104\n",
       "Special Effects (archaic category)                              92\n",
       "Makeup                                                          86\n",
       "Scientific and Technical (Academy Award of Merit)               45\n",
       "Irving G. Thalberg Memorial Award                               44\n",
       "Animated Feature Film                                           37\n",
       "Assistant Director (archaic category)                           35\n",
       "Jean Hersholt Humanitarian Award                                33\n",
       "Scientific and Technical (Bonner Medal)                         33\n",
       "Documentary (other)                                             25\n",
       "Scientific and Technical (Gordon E. Sawyer Award)               22\n",
       "Dance Direction (archaic category)                              22\n",
       "Scientific and Technical (Special Awards)                       18\n",
       "Special Achievement Award                                       18\n",
       "Acting (other)                                                  14\n",
       "Engineering Effects (archaic category)                           3\n",
       "Unique and Artistic Picture (archaic category)                   3\n",
       "Name: Category, dtype: int64"
      ]
     },
     "execution_count": 49,
     "metadata": {},
     "output_type": "execute_result"
    }
   ],
   "source": [
    "academy_awards['Category'].value_counts()"
   ]
  },
  {
   "cell_type": "code",
   "execution_count": 50,
   "metadata": {
    "collapsed": false,
    "scrolled": false
   },
   "outputs": [
    {
     "data": {
      "text/plain": [
       "Meryl Streep                                                                                                                                                                                                                                                                                                                           16\n",
       "Titanic                                                                                                                                                                                                                                                                                                                                14\n",
       "Cleopatra                                                                                                                                                                                                                                                                                                                              13\n",
       "A Star Is Born                                                                                                                                                                                                                                                                                                                         13\n",
       "Moulin Rouge                                                                                                                                                                                                                                                                                                                           12\n",
       "Mary Poppins                                                                                                                                                                                                                                                                                                                           12\n",
       "Mutiny on the Bounty                                                                                                                                                                                                                                                                                                                   12\n",
       "Katharine Hepburn                                                                                                                                                                                                                                                                                                                      12\n",
       "The Lord of the Rings: The Fellowship of the Ring                                                                                                                                                                                                                                                                                      12\n",
       "Jack Nicholson                                                                                                                                                                                                                                                                                                                         12\n",
       "Bette Davis                                                                                                                                                                                                                                                                                                                            11\n",
       "Forrest Gump                                                                                                                                                                                                                                                                                                                           11\n",
       "The Curious Case of Benjamin Button                                                                                                                                                                                                                                                                                                    11\n",
       "Hamlet                                                                                                                                                                                                                                                                                                                                 11\n",
       "The Lord of the Rings: The Return of the King                                                                                                                                                                                                                                                                                          11\n",
       "Gladiator                                                                                                                                                                                                                                                                                                                              10\n",
       "Braveheart                                                                                                                                                                                                                                                                                                                             10\n",
       "Schindler's List                                                                                                                                                                                                                                                                                                                       10\n",
       "Crouching Tiger, Hidden Dragon                                                                                                                                                                                                                                                                                                         10\n",
       "Ben-Hur                                                                                                                                                                                                                                                                                                                                10\n",
       "Slumdog Millionaire                                                                                                                                                                                                                                                                                                                    10\n",
       "Gandhi                                                                                                                                                                                                                                                                                                                                 10\n",
       "Master and Commander: The Far Side of the World                                                                                                                                                                                                                                                                                        10\n",
       "Saving Private Ryan                                                                                                                                                                                                                                                                                                                    10\n",
       "Raiders of the Lost Ark                                                                                                                                                                                                                                                                                                                10\n",
       "Shakespeare in Love                                                                                                                                                                                                                                                                                                                    10\n",
       "Paul Newman                                                                                                                                                                                                                                                                                                                            10\n",
       "Dances With Wolves                                                                                                                                                                                                                                                                                                                      9\n",
       "Heaven Can Wait                                                                                                                                                                                                                                                                                                                         9\n",
       "Amadeus                                                                                                                                                                                                                                                                                                                                 9\n",
       "                                                                                                                                                                                                                                                                                                                                       ..\n",
       "Raise the Red Lantern                                                                                                                                                                                                                                                                                                                   1\n",
       "To Arthur Widmer for his lifetime of achievement in the science and technology of image compositing for motion pictures as exemplified by his significant contributions to the development of the Ultra Violet and the bluescreen\" compositing processes.\"                                                                              1\n",
       "To DOUGLAS TRUMBULL for the concept; GEOFFREY H. WILLIAMSON for the movement design; ROBERT D. AUGUSTE for the electronic design and EDMUND M. DI GIULIO for the camera system design of the CP-65 Showscan Camera System for 65mm motion picture photography. [Camera]                                                                 1\n",
       "To HAROLD NYE of Warner Bros. Studio for a miniature incandescent spot lamp. [Lighting]                                                                                                                                                                                                                                                 1\n",
       "I Met the Walrus                                                                                                                                                                                                                                                                                                                        1\n",
       "Searching for Bobby Fischer                                                                                                                                                                                                                                                                                                             1\n",
       "Le Volcan Interdit (The Forbidden Volcano)                                                                                                                                                                                                                                                                                              1\n",
       "Gene Lockhart                                                                                                                                                                                                                                                                                                                           1\n",
       "The Big Carnival                                                                                                                                                                                                                                                                                                                        1\n",
       "Lesley Ann Warren                                                                                                                                                                                                                                                                                                                       1\n",
       "Greg Kinnear                                                                                                                                                                                                                                                                                                                            1\n",
       "High Schools                                                                                                                                                                                                                                                                                                                            1\n",
       "Lacombe, Lucien                                                                                                                                                                                                                                                                                                                         1\n",
       "To the Shores of Tripoli                                                                                                                                                                                                                                                                                                                1\n",
       "To RICHARD H. VETTER of Todd-AO Corporation for the design of an improved anamorphic focusing system for motion picture photography. [Lenses and Filters]                                                                                                                                                                               1\n",
       "Wild Wings                                                                                                                                                                                                                                                                                                                              1\n",
       "Steven Spielberg                                                                                                                                                                                                                                                                                                                        1\n",
       "In the Nuclear Shadow: What Can the Children Tell Us?                                                                                                                                                                                                                                                                                   1\n",
       "Quinn Cummings                                                                                                                                                                                                                                                                                                                          1\n",
       "To EMANUEL TRILLING of Trilling Resources Limited for the development of Stunt-Gel fire protection barrier for motion picture stunt work. [Stage Operations]                                                                                                                                                                            1\n",
       "Chicks in White Satin                                                                                                                                                                                                                                                                                                                   1\n",
       "Bloodbrothers                                                                                                                                                                                                                                                                                                                           1\n",
       "Ernest Borgnine                                                                                                                                                                                                                                                                                                                         1\n",
       "To Jerome Robbins for his brilliant achievements in the art of choreography on film.                                                                                                                                                                                                                                                    1\n",
       "Chile: Hasta Cuando?                                                                                                                                                                                                                                                                                                                    1\n",
       "Mitchell Leisen                                                                                                                                                                                                                                                                                                                         1\n",
       "Le Bal                                                                                                                                                                                                                                                                                                                                  1\n",
       "3 Misses                                                                                                                                                                                                                                                                                                                                1\n",
       "To ARNOLD & RICHTER CINE TECHNIK, and ARRI USA, INC. for the concept and engineering of the Arriflex 435 Camera System. The 435 enhances the creative process via its programmability and reliability, and provides the camera operator with the widest feature and performance capability of any MOS camera in use today. [Camera]     1\n",
       "Death in Venice                                                                                                                                                                                                                                                                                                                         1\n",
       "Name: Nominee, dtype: int64"
      ]
     },
     "execution_count": 50,
     "metadata": {},
     "output_type": "execute_result"
    }
   ],
   "source": [
    "academy_awards['Nominee'].value_counts()"
   ]
  },
  {
   "cell_type": "code",
   "execution_count": 51,
   "metadata": {
    "collapsed": false,
    "scrolled": true
   },
   "outputs": [
    {
     "data": {
      "text/plain": [
       "Metro-Goldwyn-Mayer                                                                                                                                                      60\n",
       "Walt Disney, Producer                                                                                                                                                    57\n",
       "Warner Bros.                                                                                                                                                             42\n",
       "John Williams                                                                                                                                                            37\n",
       "France                                                                                                                                                                   35\n",
       "Alfred Newman                                                                                                                                                            34\n",
       "Italy                                                                                                                                                                    26\n",
       "Paramount                                                                                                                                                                24\n",
       "Gordon Hollingshead, Producer                                                                                                                                            22\n",
       "Edith Head                                                                                                                                                               22\n",
       "20th Century-Fox                                                                                                                                                         20\n",
       "RKO Radio                                                                                                                                                                20\n",
       "Victor Young                                                                                                                                                             19\n",
       "Spain                                                                                                                                                                    19\n",
       "Leon Shamroy                                                                                                                                                             17\n",
       "Jerry Goldsmith                                                                                                                                                          16\n",
       "Woody Allen                                                                                                                                                              16\n",
       "Max Steiner                                                                                                                                                              16\n",
       "Metro-Goldwyn-Mayer Studio Sound Department, Douglas Shearer, Sound Director                                                                                             15\n",
       "Alex North                                                                                                                                                               14\n",
       "Sweden                                                                                                                                                                   14\n",
       "Miklos Rozsa                                                                                                                                                             14\n",
       "Columbia                                                                                                                                                                 13\n",
       "Pete Smith, Producer                                                                                                                                                     13\n",
       "Dimitri Tiomkin                                                                                                                                                          13\n",
       "Columbia Studio Sound Department, John Livadary, Sound Director                                                                                                          13\n",
       "Jean Louis                                                                                                                                                               12\n",
       "Franz Waxman                                                                                                                                                             12\n",
       "Robert Surtees                                                                                                                                                           12\n",
       "William Wyler                                                                                                                                                            12\n",
       "                                                                                                                                                                         ..\n",
       "Art Direction: Arthur Max; Set Decoration: Beth A. Rubino                                                                                                                 1\n",
       "Norman Jewison, Ronald L. Schwary and Patrick Palmer, Producers                                                                                                           1\n",
       "Adaptation Score by Jonathan Tunick                                                                                                                                       1\n",
       "Adolph Deutsch, Roger Edens                                                                                                                                               1\n",
       "The Love Parade                                                                                                                                                           1\n",
       "Separate Tables {'Pat Cooper'}                                                                                                                                            1\n",
       "Hans Dreier, John Goodman                                                                                                                                                 1\n",
       "Concanen Films                                                                                                                                                            1\n",
       "David Blewitt                                                                                                                                                             1\n",
       "Story by Pasquale Festa Campanile, Massimo Franciosa, Nanni Loy, Vasco Pratolini; Screenplay by Carlo Bernari, Pasquale Festa Campanile, Massimo Franciosa, Nanni Loy     1\n",
       "Freida Lee Mock, Terry Sanders                                                                                                                                            1\n",
       "Nashville {'Linnea Reese'}                                                                                                                                                1\n",
       "John Powell                                                                                                                                                               1\n",
       "Story by James Edward Grant; Screenplay by William Bowers, James Edward Grant                                                                                             1\n",
       "Fredric Steinkamp, William Steinkamp                                                                                                                                      1\n",
       "Andrew Sugerman, Producer                                                                                                                                                 1\n",
       "Lawrence Lasker, Walter F. Parkes                                                                                                                                         1\n",
       "Art Direction: Cedric Gibbons, Randall Duell; Interior Decoration: Edwin B. Willis                                                                                        1\n",
       "Edith Head, Bill Thomas                                                                                                                                                   1\n",
       "The Guardsman {'The Actress'}                                                                                                                                             1\n",
       "Richard Kotuk and Ara Chekmayan, Producers                                                                                                                                1\n",
       "Robert McBride, Producer                                                                                                                                                  1\n",
       "Silkwood {'Dolly Pelliker'}                                                                                                                                               1\n",
       "Arthur Dong, Producer                                                                                                                                                     1\n",
       "Matthew W. Mungle, Deborah La Mia Denaver                                                                                                                                 1\n",
       "Dodsworth {'Baroness von Obersdorf'}                                                                                                                                      1\n",
       "Hans Dreier, Roland Anderson [came in 2nd]                                                                                                                                1\n",
       "Art Direction: Hein Heckroth; Set Decoration: Arthur Lawson                                                                                                               1\n",
       "Body and Soul {'Charlie Davis'}                                                                                                                                           1\n",
       "Music by Eminem, Jeff Bass and Luis Resto; Lyric by Eminem                                                                                                                1\n",
       "Name: Additional Info, dtype: int64"
      ]
     },
     "execution_count": 51,
     "metadata": {},
     "output_type": "execute_result"
    }
   ],
   "source": [
    "academy_awards['Additional Info'].value_counts()"
   ]
  },
  {
   "cell_type": "code",
   "execution_count": 52,
   "metadata": {
    "collapsed": false,
    "scrolled": false
   },
   "outputs": [
    {
     "data": {
      "text/plain": [
       "0        2010\n",
       "1        2010\n",
       "2        2010\n",
       "3        2010\n",
       "4        2010\n",
       "5        2010\n",
       "6        2010\n",
       "7        2010\n",
       "8        2010\n",
       "9        2010\n",
       "10       2010\n",
       "11       2010\n",
       "12       2010\n",
       "13       2010\n",
       "14       2010\n",
       "15       2010\n",
       "16       2010\n",
       "17       2010\n",
       "18       2010\n",
       "19       2010\n",
       "20       2010\n",
       "21       2010\n",
       "22       2010\n",
       "23       2010\n",
       "24       2010\n",
       "25       2010\n",
       "26       2010\n",
       "27       2010\n",
       "28       2010\n",
       "29       2010\n",
       "         ... \n",
       "10107    1927\n",
       "10108    1927\n",
       "10109    1927\n",
       "10110    1927\n",
       "10111    1927\n",
       "10112    1927\n",
       "10113    1927\n",
       "10114    1927\n",
       "10115    1927\n",
       "10116    1927\n",
       "10117    1927\n",
       "10118    1927\n",
       "10119    1927\n",
       "10120    1927\n",
       "10121    1927\n",
       "10122    1927\n",
       "10123    1927\n",
       "10124    1927\n",
       "10125    1927\n",
       "10126    1927\n",
       "10127    1927\n",
       "10128    1927\n",
       "10129    1927\n",
       "10130    1927\n",
       "10131    1927\n",
       "10132    1927\n",
       "10133    1927\n",
       "10134    1927\n",
       "10135    1927\n",
       "10136    1927\n",
       "Name: Year, dtype: int64"
      ]
     },
     "execution_count": 52,
     "metadata": {},
     "output_type": "execute_result"
    }
   ],
   "source": [
    "academy_awards[\"Year\"] = academy_awards[\"Year\"].str[0:4].astype(\"int64\")\n",
    "academy_awards[\"Year\"]"
   ]
  },
  {
   "cell_type": "code",
   "execution_count": 53,
   "metadata": {
    "collapsed": false
   },
   "outputs": [
    {
     "data": {
      "text/plain": [
       "2009    140\n",
       "2001    137\n",
       "2010    135\n",
       "2006    130\n",
       "2005    129\n",
       "2004    129\n",
       "2007    127\n",
       "2002    127\n",
       "2003    122\n",
       "2008    118\n",
       "Name: Year, dtype: int64"
      ]
     },
     "execution_count": 53,
     "metadata": {},
     "output_type": "execute_result"
    }
   ],
   "source": [
    "later_than_2000 = academy_awards[academy_awards[\"Year\"] > 2000]\n",
    "later_than_2000['Year'].value_counts()"
   ]
  },
  {
   "cell_type": "code",
   "execution_count": 54,
   "metadata": {
    "collapsed": false
   },
   "outputs": [
    {
     "data": {
      "text/plain": [
       "Actor -- Supporting Role      50\n",
       "Actor -- Leading Role         50\n",
       "Actress -- Leading Role       50\n",
       "Actress -- Supporting Role    50\n",
       "Name: Category, dtype: int64"
      ]
     },
     "execution_count": 54,
     "metadata": {},
     "output_type": "execute_result"
    }
   ],
   "source": [
    "award_categories = [\"Actor -- Leading Role\",\"Actor -- Supporting Role\",\"Actress -- Leading Role\",\\\n",
    "                   \"Actress -- Supporting Role\"]\n",
    "nominations = later_than_2000[later_than_2000[\"Category\"].isin(award_categories)]\n",
    "nominations[\"Category\"].value_counts()"
   ]
  },
  {
   "cell_type": "code",
   "execution_count": 55,
   "metadata": {
    "collapsed": false
   },
   "outputs": [
    {
     "name": "stderr",
     "output_type": "stream",
     "text": [
      "/Users/jeganram/anaconda/lib/python3.5/site-packages/ipykernel/__main__.py:2: SettingWithCopyWarning: \n",
      "A value is trying to be set on a copy of a slice from a DataFrame.\n",
      "Try using .loc[row_indexer,col_indexer] = value instead\n",
      "\n",
      "See the caveats in the documentation: http://pandas.pydata.org/pandas-docs/stable/indexing.html#indexing-view-versus-copy\n",
      "  from ipykernel import kernelapp as app\n"
     ]
    },
    {
     "data": {
      "text/plain": [
       "0    160\n",
       "1     40\n",
       "Name: Won?, dtype: int64"
      ]
     },
     "execution_count": 55,
     "metadata": {},
     "output_type": "execute_result"
    }
   ],
   "source": [
    "replace_dict = { \"YES\": 1, \"NO\": 0 }\n",
    "nominations[\"Won?\"] = nominations[\"Won?\"].map(replace_dict)\n",
    "nominations[\"Won?\"].value_counts()"
   ]
  },
  {
   "cell_type": "code",
   "execution_count": 56,
   "metadata": {
    "collapsed": false
   },
   "outputs": [
    {
     "name": "stderr",
     "output_type": "stream",
     "text": [
      "/Users/jeganram/anaconda/lib/python3.5/site-packages/ipykernel/__main__.py:1: SettingWithCopyWarning: \n",
      "A value is trying to be set on a copy of a slice from a DataFrame.\n",
      "Try using .loc[row_indexer,col_indexer] = value instead\n",
      "\n",
      "See the caveats in the documentation: http://pandas.pydata.org/pandas-docs/stable/indexing.html#indexing-view-versus-copy\n",
      "  if __name__ == '__main__':\n"
     ]
    },
    {
     "data": {
      "text/html": [
       "<div>\n",
       "<table border=\"1\" class=\"dataframe\">\n",
       "  <thead>\n",
       "    <tr style=\"text-align: right;\">\n",
       "      <th></th>\n",
       "      <th>Year</th>\n",
       "      <th>Category</th>\n",
       "      <th>Nominee</th>\n",
       "      <th>Additional Info</th>\n",
       "      <th>Won</th>\n",
       "    </tr>\n",
       "  </thead>\n",
       "  <tbody>\n",
       "    <tr>\n",
       "      <th>0</th>\n",
       "      <td>2010</td>\n",
       "      <td>Actor -- Leading Role</td>\n",
       "      <td>Javier Bardem</td>\n",
       "      <td>Biutiful {'Uxbal'}</td>\n",
       "      <td>0</td>\n",
       "    </tr>\n",
       "    <tr>\n",
       "      <th>1</th>\n",
       "      <td>2010</td>\n",
       "      <td>Actor -- Leading Role</td>\n",
       "      <td>Jeff Bridges</td>\n",
       "      <td>True Grit {'Rooster Cogburn'}</td>\n",
       "      <td>0</td>\n",
       "    </tr>\n",
       "    <tr>\n",
       "      <th>2</th>\n",
       "      <td>2010</td>\n",
       "      <td>Actor -- Leading Role</td>\n",
       "      <td>Jesse Eisenberg</td>\n",
       "      <td>The Social Network {'Mark Zuckerberg'}</td>\n",
       "      <td>0</td>\n",
       "    </tr>\n",
       "    <tr>\n",
       "      <th>3</th>\n",
       "      <td>2010</td>\n",
       "      <td>Actor -- Leading Role</td>\n",
       "      <td>Colin Firth</td>\n",
       "      <td>The King's Speech {'King George VI'}</td>\n",
       "      <td>1</td>\n",
       "    </tr>\n",
       "    <tr>\n",
       "      <th>4</th>\n",
       "      <td>2010</td>\n",
       "      <td>Actor -- Leading Role</td>\n",
       "      <td>James Franco</td>\n",
       "      <td>127 Hours {'Aron Ralston'}</td>\n",
       "      <td>0</td>\n",
       "    </tr>\n",
       "  </tbody>\n",
       "</table>\n",
       "</div>"
      ],
      "text/plain": [
       "   Year               Category          Nominee  \\\n",
       "0  2010  Actor -- Leading Role    Javier Bardem   \n",
       "1  2010  Actor -- Leading Role     Jeff Bridges   \n",
       "2  2010  Actor -- Leading Role  Jesse Eisenberg   \n",
       "3  2010  Actor -- Leading Role      Colin Firth   \n",
       "4  2010  Actor -- Leading Role     James Franco   \n",
       "\n",
       "                          Additional Info  Won  \n",
       "0                      Biutiful {'Uxbal'}    0  \n",
       "1           True Grit {'Rooster Cogburn'}    0  \n",
       "2  The Social Network {'Mark Zuckerberg'}    0  \n",
       "3    The King's Speech {'King George VI'}    1  \n",
       "4              127 Hours {'Aron Ralston'}    0  "
      ]
     },
     "execution_count": 56,
     "metadata": {},
     "output_type": "execute_result"
    }
   ],
   "source": [
    "nominations[\"Won\"] = nominations[\"Won?\"]\n",
    "final_nominations = nominations.drop(\"Won?\", axis=1)\n",
    "final_nominations.head()"
   ]
  },
  {
   "cell_type": "code",
   "execution_count": 57,
   "metadata": {
    "collapsed": false
   },
   "outputs": [
    {
     "data": {
      "text/html": [
       "<div>\n",
       "<table border=\"1\" class=\"dataframe\">\n",
       "  <thead>\n",
       "    <tr style=\"text-align: right;\">\n",
       "      <th></th>\n",
       "      <th>Year</th>\n",
       "      <th>Category</th>\n",
       "      <th>Nominee</th>\n",
       "      <th>Additional Info</th>\n",
       "      <th>Won</th>\n",
       "      <th>Movie</th>\n",
       "      <th>Character</th>\n",
       "    </tr>\n",
       "  </thead>\n",
       "  <tbody>\n",
       "    <tr>\n",
       "      <th>0</th>\n",
       "      <td>2010</td>\n",
       "      <td>Actor -- Leading Role</td>\n",
       "      <td>Javier Bardem</td>\n",
       "      <td>Biutiful {'Uxbal'}</td>\n",
       "      <td>0</td>\n",
       "      <td>Biutiful</td>\n",
       "      <td>Uxbal</td>\n",
       "    </tr>\n",
       "    <tr>\n",
       "      <th>1</th>\n",
       "      <td>2010</td>\n",
       "      <td>Actor -- Leading Role</td>\n",
       "      <td>Jeff Bridges</td>\n",
       "      <td>True Grit {'Rooster Cogburn'}</td>\n",
       "      <td>0</td>\n",
       "      <td>True Grit</td>\n",
       "      <td>Rooster Cogburn</td>\n",
       "    </tr>\n",
       "    <tr>\n",
       "      <th>2</th>\n",
       "      <td>2010</td>\n",
       "      <td>Actor -- Leading Role</td>\n",
       "      <td>Jesse Eisenberg</td>\n",
       "      <td>The Social Network {'Mark Zuckerberg'}</td>\n",
       "      <td>0</td>\n",
       "      <td>The Social Network</td>\n",
       "      <td>Mark Zuckerberg</td>\n",
       "    </tr>\n",
       "    <tr>\n",
       "      <th>3</th>\n",
       "      <td>2010</td>\n",
       "      <td>Actor -- Leading Role</td>\n",
       "      <td>Colin Firth</td>\n",
       "      <td>The King's Speech {'King George VI'}</td>\n",
       "      <td>1</td>\n",
       "      <td>The King's Speech</td>\n",
       "      <td>King George VI</td>\n",
       "    </tr>\n",
       "    <tr>\n",
       "      <th>4</th>\n",
       "      <td>2010</td>\n",
       "      <td>Actor -- Leading Role</td>\n",
       "      <td>James Franco</td>\n",
       "      <td>127 Hours {'Aron Ralston'}</td>\n",
       "      <td>0</td>\n",
       "      <td>127 Hours</td>\n",
       "      <td>Aron Ralston</td>\n",
       "    </tr>\n",
       "  </tbody>\n",
       "</table>\n",
       "</div>"
      ],
      "text/plain": [
       "   Year               Category          Nominee  \\\n",
       "0  2010  Actor -- Leading Role    Javier Bardem   \n",
       "1  2010  Actor -- Leading Role     Jeff Bridges   \n",
       "2  2010  Actor -- Leading Role  Jesse Eisenberg   \n",
       "3  2010  Actor -- Leading Role      Colin Firth   \n",
       "4  2010  Actor -- Leading Role     James Franco   \n",
       "\n",
       "                          Additional Info  Won               Movie  \\\n",
       "0                      Biutiful {'Uxbal'}    0            Biutiful   \n",
       "1           True Grit {'Rooster Cogburn'}    0           True Grit   \n",
       "2  The Social Network {'Mark Zuckerberg'}    0  The Social Network   \n",
       "3    The King's Speech {'King George VI'}    1   The King's Speech   \n",
       "4              127 Hours {'Aron Ralston'}    0           127 Hours   \n",
       "\n",
       "         Character  \n",
       "0            Uxbal  \n",
       "1  Rooster Cogburn  \n",
       "2  Mark Zuckerberg  \n",
       "3   King George VI  \n",
       "4     Aron Ralston  "
      ]
     },
     "execution_count": 57,
     "metadata": {},
     "output_type": "execute_result"
    }
   ],
   "source": [
    "additional_info_1 = final_nominations[\"Additional Info\"].str.rstrip(\"'}\")\n",
    "additional_info_2 = additional_info_1.str.split(\" {'\")\n",
    "movie_names = additional_info_2.str[0]\n",
    "characters = additional_info_2.str[1]\n",
    "final_nominations[\"Movie\"] = movie_names\n",
    "final_nominations[\"Character\"] = characters\n",
    "final_nominations.head()"
   ]
  },
  {
   "cell_type": "code",
   "execution_count": 58,
   "metadata": {
    "collapsed": false
   },
   "outputs": [
    {
     "data": {
      "text/html": [
       "<div>\n",
       "<table border=\"1\" class=\"dataframe\">\n",
       "  <thead>\n",
       "    <tr style=\"text-align: right;\">\n",
       "      <th></th>\n",
       "      <th>Year</th>\n",
       "      <th>Category</th>\n",
       "      <th>Nominee</th>\n",
       "      <th>Won</th>\n",
       "      <th>Movie</th>\n",
       "      <th>Character</th>\n",
       "    </tr>\n",
       "  </thead>\n",
       "  <tbody>\n",
       "    <tr>\n",
       "      <th>0</th>\n",
       "      <td>2010</td>\n",
       "      <td>Actor -- Leading Role</td>\n",
       "      <td>Javier Bardem</td>\n",
       "      <td>0</td>\n",
       "      <td>Biutiful</td>\n",
       "      <td>Uxbal</td>\n",
       "    </tr>\n",
       "    <tr>\n",
       "      <th>1</th>\n",
       "      <td>2010</td>\n",
       "      <td>Actor -- Leading Role</td>\n",
       "      <td>Jeff Bridges</td>\n",
       "      <td>0</td>\n",
       "      <td>True Grit</td>\n",
       "      <td>Rooster Cogburn</td>\n",
       "    </tr>\n",
       "    <tr>\n",
       "      <th>2</th>\n",
       "      <td>2010</td>\n",
       "      <td>Actor -- Leading Role</td>\n",
       "      <td>Jesse Eisenberg</td>\n",
       "      <td>0</td>\n",
       "      <td>The Social Network</td>\n",
       "      <td>Mark Zuckerberg</td>\n",
       "    </tr>\n",
       "    <tr>\n",
       "      <th>3</th>\n",
       "      <td>2010</td>\n",
       "      <td>Actor -- Leading Role</td>\n",
       "      <td>Colin Firth</td>\n",
       "      <td>1</td>\n",
       "      <td>The King's Speech</td>\n",
       "      <td>King George VI</td>\n",
       "    </tr>\n",
       "    <tr>\n",
       "      <th>4</th>\n",
       "      <td>2010</td>\n",
       "      <td>Actor -- Leading Role</td>\n",
       "      <td>James Franco</td>\n",
       "      <td>0</td>\n",
       "      <td>127 Hours</td>\n",
       "      <td>Aron Ralston</td>\n",
       "    </tr>\n",
       "  </tbody>\n",
       "</table>\n",
       "</div>"
      ],
      "text/plain": [
       "   Year               Category          Nominee  Won               Movie  \\\n",
       "0  2010  Actor -- Leading Role    Javier Bardem    0            Biutiful   \n",
       "1  2010  Actor -- Leading Role     Jeff Bridges    0           True Grit   \n",
       "2  2010  Actor -- Leading Role  Jesse Eisenberg    0  The Social Network   \n",
       "3  2010  Actor -- Leading Role      Colin Firth    1   The King's Speech   \n",
       "4  2010  Actor -- Leading Role     James Franco    0           127 Hours   \n",
       "\n",
       "         Character  \n",
       "0            Uxbal  \n",
       "1  Rooster Cogburn  \n",
       "2  Mark Zuckerberg  \n",
       "3   King George VI  \n",
       "4     Aron Ralston  "
      ]
     },
     "execution_count": 58,
     "metadata": {},
     "output_type": "execute_result"
    }
   ],
   "source": [
    "final_nominations = final_nominations.drop(\"Additional Info\", axis=1)\n",
    "final_nominations.head()"
   ]
  },
  {
   "cell_type": "code",
   "execution_count": 59,
   "metadata": {
    "collapsed": true
   },
   "outputs": [],
   "source": [
    "import sqlite3"
   ]
  },
  {
   "cell_type": "code",
   "execution_count": 60,
   "metadata": {
    "collapsed": true
   },
   "outputs": [],
   "source": [
    "conn = sqlite3.connect(\"nominations.db\")"
   ]
  },
  {
   "cell_type": "code",
   "execution_count": 61,
   "metadata": {
    "collapsed": true
   },
   "outputs": [],
   "source": [
    "final_nominations.to_sql(\"nominations\", conn, index = False)"
   ]
  },
  {
   "cell_type": "code",
   "execution_count": 76,
   "metadata": {
    "collapsed": false
   },
   "outputs": [],
   "source": [
    "def query(query_str):\n",
    "    result = conn.execute(query_str).fetchall()\n",
    "    return result"
   ]
  },
  {
   "cell_type": "code",
   "execution_count": 81,
   "metadata": {
    "collapsed": false
   },
   "outputs": [
    {
     "data": {
      "text/plain": [
       "[(0, 'Year', 'INTEGER', 0, None, 0),\n",
       " (1, 'Category', 'TEXT', 0, None, 0),\n",
       " (2, 'Nominee', 'TEXT', 0, None, 0),\n",
       " (3, 'Won', 'INTEGER', 0, None, 0),\n",
       " (4, 'Movie', 'TEXT', 0, None, 0),\n",
       " (5, 'Character', 'TEXT', 0, None, 0)]"
      ]
     },
     "execution_count": 81,
     "metadata": {},
     "output_type": "execute_result"
    }
   ],
   "source": [
    "query(\"PRAGMA table_info(nominations);\")"
   ]
  },
  {
   "cell_type": "code",
   "execution_count": 82,
   "metadata": {
    "collapsed": false
   },
   "outputs": [
    {
     "data": {
      "text/plain": [
       "[(2010, 'Actor -- Leading Role', 'Javier Bardem', 0, 'Biutiful', 'Uxbal'),\n",
       " (2010,\n",
       "  'Actor -- Leading Role',\n",
       "  'Jeff Bridges',\n",
       "  0,\n",
       "  'True Grit',\n",
       "  'Rooster Cogburn'),\n",
       " (2010,\n",
       "  'Actor -- Leading Role',\n",
       "  'Jesse Eisenberg',\n",
       "  0,\n",
       "  'The Social Network',\n",
       "  'Mark Zuckerberg'),\n",
       " (2010,\n",
       "  'Actor -- Leading Role',\n",
       "  'Colin Firth',\n",
       "  1,\n",
       "  \"The King's Speech\",\n",
       "  'King George VI'),\n",
       " (2010,\n",
       "  'Actor -- Leading Role',\n",
       "  'James Franco',\n",
       "  0,\n",
       "  '127 Hours',\n",
       "  'Aron Ralston'),\n",
       " (2010,\n",
       "  'Actor -- Supporting Role',\n",
       "  'Christian Bale',\n",
       "  1,\n",
       "  'The Fighter',\n",
       "  'Dicky Eklund'),\n",
       " (2010,\n",
       "  'Actor -- Supporting Role',\n",
       "  'John Hawkes',\n",
       "  0,\n",
       "  \"Winter's Bone\",\n",
       "  'Teardrop'),\n",
       " (2010,\n",
       "  'Actor -- Supporting Role',\n",
       "  'Jeremy Renner',\n",
       "  0,\n",
       "  'The Town',\n",
       "  'James Coughlin'),\n",
       " (2010,\n",
       "  'Actor -- Supporting Role',\n",
       "  'Mark Ruffalo',\n",
       "  0,\n",
       "  'The Kids Are All Right',\n",
       "  'Paul'),\n",
       " (2010,\n",
       "  'Actor -- Supporting Role',\n",
       "  'Geoffrey Rush',\n",
       "  0,\n",
       "  \"The King's Speech\",\n",
       "  'Lionel Logue')]"
      ]
     },
     "execution_count": 82,
     "metadata": {},
     "output_type": "execute_result"
    }
   ],
   "source": [
    "query(\"SELECT * FROM nominations LIMIT 10;\")"
   ]
  },
  {
   "cell_type": "code",
   "execution_count": 84,
   "metadata": {
    "collapsed": true
   },
   "outputs": [],
   "source": [
    "conn.close()"
   ]
  },
  {
   "cell_type": "markdown",
   "metadata": {},
   "source": [
    "## Next Steps \n",
    "Explore the rest of our original dataset academy_awards.csv and brainstorm how to fix the rest of the dataset:\n",
    "* The awards categories in older ceremonies were different than the ones we have today. What relevant information should we keep from older ceremonies?\n",
    "* What are all the different formatting styles that the Additional Info column contains. Can we use tools like regular expressions to capture these patterns and clean them up?\n",
    "* The nominations for the Art Direction category have lengthy values for Additional Info. What information is useful and how do we extract it?\n",
    "* Many values in Additional Info don't contain the character name the actor or actress played. Should we toss out character name altogether as we expand our data? What tradeoffs do we make by doing so?\n",
    "* What's the best way to handle awards ceremonies that included movies from 2 years?\n",
    "E.g. see 1927/28 (1st) in the Year column."
   ]
  }
 ],
 "metadata": {
  "kernelspec": {
   "display_name": "Python [default]",
   "language": "python",
   "name": "python3"
  },
  "language_info": {
   "codemirror_mode": {
    "name": "ipython",
    "version": 3
   },
   "file_extension": ".py",
   "mimetype": "text/x-python",
   "name": "python",
   "nbconvert_exporter": "python",
   "pygments_lexer": "ipython3",
   "version": "3.5.2"
  }
 },
 "nbformat": 4,
 "nbformat_minor": 0
}
